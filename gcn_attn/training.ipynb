{
 "cells": [
  {
   "cell_type": "code",
   "execution_count": 1,
   "metadata": {},
   "outputs": [],
   "source": [
    "import tensorflow as tf\n",
    "import numpy as np\n",
    "import jax\n",
    "import jax.numpy as jnp\n",
    "import jax.experimental.optimizers as optimizers\n",
    "from jax.experimental import stax\n",
    "from jax.experimental.stax import (Conv, Dense, MaxPool, Relu, Flatten)\n",
    "from jax import jit, grad, random,vmap,value_and_grad\n",
    "import jax.nn as jnn\n",
    "from jax.tree_util import tree_multimap\n",
    "import math\n",
    "from scipy.special import softmax\n",
    "import matplotlib.pyplot as plt\n",
    "import warnings\n",
    "from functools import partial # for use with vmap"
   ]
  },
  {
   "cell_type": "code",
   "execution_count": 2,
   "metadata": {},
   "outputs": [],
   "source": [
    "def data_parse(record):\n",
    "    features = {\n",
    "        'N': tf.io.FixedLenFeature([], tf.int64),\n",
    "        'labels': tf.io.FixedLenFeature([16], tf.float32),\n",
    "        'elements': tf.io.VarLenFeature(tf.int64),\n",
    "        'coords': tf.io.VarLenFeature(tf.float32),\n",
    "    }\n",
    "    parsed_features = tf.io.parse_single_example(\n",
    "        serialized=record, features=features)\n",
    "    coords = tf.reshape(tf.sparse.to_dense(parsed_features['coords'], default_value=0),[-1,4])\n",
    "    elements = tf.sparse.to_dense(parsed_features['elements'], default_value=0)\n",
    "    return (elements, coords), parsed_features['labels']\n",
    "data = tf.data.TFRecordDataset(\n",
    "    'qm9.tfrecords', compression_type='GZIP').map(data_parse)"
   ]
  },
  {
   "cell_type": "code",
   "execution_count": 3,
   "metadata": {},
   "outputs": [],
   "source": [
    "def make_graph(e,x):\n",
    "    e = e.numpy()\n",
    "    x = x.numpy()\n",
    "    r = x[:,:3]\n",
    "    r2 = np.sum((r - r[:,np.newaxis,:])**2,axis=-1)\n",
    "    edges = np.where(r2!=0, 1/r2,0.0) #[N,N]\n",
    "    nodes = np.zeros((len(e),9))\n",
    "    nodes[np.arange(len(e)), e-1] = 1\n",
    "    return nodes,edges\n",
    "\n",
    "def get_label(y):\n",
    "    return y.numpy()[13]"
   ]
  },
  {
   "cell_type": "code",
   "execution_count": 4,
   "metadata": {},
   "outputs": [],
   "source": [
    "def loss(params, inputs, targets):\n",
    "    # Computes average loss for the batch\n",
    "    predictions = net_apply(params, inputs)\n",
    "    #todo: add reg\n",
    "    l2=np.mean((targets - predictions)**2)\n",
    "    #print('loss',l2)\n",
    "    return l2\n",
    "\n",
    "@jit\n",
    "def update(i, opt_state,inputs,targets):\n",
    "    params = get_params(opt_state)\n",
    "    return opt_update(i, grad(loss)(params,inputs,targets), opt_state)\n",
    "\n",
    "#This is the function I wrote for GCN\n",
    "def GCN(out_dim,embed_dim):\n",
    "    def init_fun(rng,input_shape):\n",
    "        output_shape = input_shape[:-1] + (out_dim,)\n",
    "        #trainable weights\n",
    "        w = np.random.normal(size = (4,embed_dim,out_dim))\n",
    "        w1 = w[0]\n",
    "        w2 = w[1]\n",
    "        w3 = w[2]\n",
    "        w4 = w[3]\n",
    "        #w2 = np.random.normal(size = (4,embed_dim,out_dim))\n",
    "        return output_shape, (w1,w2,w3,w4)\n",
    "    \n",
    "    def apply_fun(train_weights,inputs, **kwargs):\n",
    "        #wq has shape (9,10), output from query has shape (5,10)\n",
    "        nodes,edges = inputs\n",
    "\n",
    "        #print('nodes and weights',nodes.shape,train_weights[0].shape)\n",
    "        query = jnp.dot(nodes,train_weights[0]) \n",
    "\n",
    "        #pairwise distances are used here wk has shape of (9,10), output from keys has shape (5,5,10)\n",
    "        keys = jnp.dot(jnp.repeat(nodes[jnp.newaxis,...],nodes.shape[0],axis=0), train_weights[1]) * edges\n",
    "        d_sq = math.sqrt(keys.shape[-1])\n",
    "        b = jnn.softmax(query[jnp.newaxis,...] * keys/d_sq)\n",
    "\n",
    "        #wv has shape (9,10), output from values has shape (5,5,10)\n",
    "        values = jnp.dot(jnp.repeat(nodes[jnp.newaxis,...],nodes.shape[0],axis=0), train_weights[2])\n",
    "\n",
    "        messages = b * values #out shape (5,5,10)\n",
    "\n",
    "        net_message = jnp.mean(messages,axis= 1)\n",
    "        self_message = nodes @ train_weights[3]\n",
    "\n",
    "        #self loop and graph level features\n",
    "        out_nodes = jnp.mean(jnn.relu((net_message+self_message)))\n",
    "\n",
    "        return out_nodes\n",
    "    \n",
    "    return init_fun,apply_fun"
   ]
  },
  {
   "cell_type": "code",
   "execution_count": 14,
   "metadata": {},
   "outputs": [
    {
     "name": "stdout",
     "output_type": "stream",
     "text": [
      "(100,)\n",
      "(100,)\n",
      "(100,)\n"
     ]
    },
    {
     "name": "stderr",
     "output_type": "stream",
     "text": [
      "/scratch/gwellawa/.conda/htf2/lib/python3.7/site-packages/ipykernel_launcher.py:6: RuntimeWarning: divide by zero encountered in true_divide\n",
      "  \n"
     ]
    }
   ],
   "source": [
    "#this is what im not sure about batching data. How to batch data. You will have to figure it out.\n",
    "embed_dim = 4\n",
    "i = 0\n",
    "embed_nodes,embed_edges,data_labels = [],[],[]\n",
    "out_dim = 10\n",
    "num_steps = 50\n",
    "num_epochs = 5\n",
    "train_loss = []\n",
    "rng = random.PRNGKey(0)\n",
    " \n",
    "for d in data:\n",
    "    (e,x),y = d\n",
    "    nodes,edges = make_graph(e,x)\n",
    "    label = get_label(y)\n",
    "    \n",
    "    #get node embeddings instead of one-hot \n",
    "    embed_nodes.append(nodes@np.random.normal(size=(9,embed_dim)))\n",
    "    #get edge embeddings from pairwise distances\n",
    "    embed_edges.append(edges[...,np.newaxis] * np.random.normal(size=(1,len(edges),out_dim)))\n",
    "    #labels will be as they are \n",
    "    data_labels.append(label)\n",
    "    i +=1\n",
    "    if i ==100:\n",
    "        break\n",
    "        \n",
    "embed_nodes = np.asarray(embed_nodes)\n",
    "embed_edges = np.asarray(embed_edges)\n",
    "data_labels = np.asarray(data_labels)\n",
    "print(embed_nodes.shape) \n",
    "print(embed_edges.shape) \n",
    "print(data_labels.shape) "
   ]
  },
  {
   "cell_type": "code",
   "execution_count": 15,
   "metadata": {},
   "outputs": [],
   "source": [
    "\n",
    "\n",
    "# This is serialization of the layers\n",
    "net_init, net_apply = stax.serial(\n",
    "    GCN(out_dim,embed_dim),\n",
    "    Dense(16), Relu,\n",
    "    Dense(1)\n",
    ")\n"
   ]
  },
  {
   "cell_type": "code",
   "execution_count": 16,
   "metadata": {},
   "outputs": [],
   "source": [
    "\n",
    "#Now this loop is wrong I think, We shouldn't be feeding one data point at a time right?\n",
    "#I guess we have to vectorize the nodes,edges and labels rather than going\n",
    "#through the data one by one?\n",
    "\n",
    "for ep in range(num_epochs):\n",
    "    for j in range(len(embed_nodes)):\n",
    "        \n",
    "        #Also we shouldn't have to initialize random weights for each data node\n",
    "        #element_embeddings = np.random.normal(size=(9,embed_dim))\n",
    "        #embed_nodes = data_nodes[i] @ element_embeddings\n",
    "        #print(embed_nodes.shape)\n",
    "\n",
    "        \n",
    "        #edge_embeddings = np.random.normal(size=(1,len(data_edges[i]),out_dim))\n",
    "        #embed_edges = data_edges[i][...,np.newaxis] * edge_embeddings\n",
    "\n",
    "        out_shape, net_params =net_init(rng,embed_nodes[j].shape)\n",
    "        #print(embed_nodes.shape,out_shape)\n",
    "\n",
    "        inputs = (embed_nodes[j],embed_edges[j])\n",
    "        label = data_labels[j]\n",
    "        #losses = loss(net_params,inputs,label)\n",
    "\n",
    "        opt_init, opt_update,get_params = optimizers.adam(step_size=1e-2)\n",
    "        opt_state = opt_init(net_params)\n",
    "\n",
    "\n",
    "        for k in range(num_steps):\n",
    "            opt_state = update(k, opt_state,inputs,label)\n",
    "        trained_params = get_params(opt_state)\n",
    "        train_loss.append(loss(trained_params,inputs,label))\n",
    "\n",
    "    #and getting an increasing loss. Please troubleshoot. This comes from batching I think,\n",
    "    # I haven't done it right\n"
   ]
  },
  {
   "cell_type": "code",
   "execution_count": 17,
   "metadata": {},
   "outputs": [
    {
     "data": {
      "image/png": "[encoded data removed]",
      "text/plain": [
       "<Figure size 432x288 with 1 Axes>"
      ]
     },
     "metadata": {
      "needs_background": "light"
     },
     "output_type": "display_data"
    }
   ],
   "source": [
    "plt.plot(train_loss, label='Training Loss')\n",
    "\n",
    "plt.show()"
   ]
  },
  {
   "cell_type": "code",
   "execution_count": null,
   "metadata": {},
   "outputs": [],
   "source": []
  }
 ],
 "metadata": {
  "kernelspec": {
   "display_name": "Python (htff2)",
   "language": "python",
   "name": "htf2"
  },
  "language_info": {
   "codemirror_mode": {
    "name": "ipython",
    "version": 3
   },
   "file_extension": ".py",
   "mimetype": "text/x-python",
   "name": "python",
   "nbconvert_exporter": "python",
   "pygments_lexer": "ipython3",
   "version": "3.7.7"
  }
 },
 "nbformat": 4,
 "nbformat_minor": 4
}
