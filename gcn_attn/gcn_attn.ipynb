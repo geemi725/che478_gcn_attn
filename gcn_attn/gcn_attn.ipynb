{
 "cells": [
  {
   "cell_type": "code",
   "execution_count": 1,
   "metadata": {},
   "outputs": [],
   "source": [
    "import tensorflow as tf\n",
    "import numpy as np\n",
    "import jax\n",
    "import jax.numpy as jnp\n",
    "import jax.experimental.optimizers as optimizers\n",
    "from jax.experimental import stax\n",
    "from jax.experimental.stax import (Conv, Dense, MaxPool, Relu, Flatten)\n",
    "from jax import jit, grad, random,vmap,value_and_grad\n",
    "import jax.nn as jnn\n",
    "from jax.tree_util import tree_multimap\n",
    "import math\n",
    "from scipy.special import softmax\n",
    "import matplotlib.pyplot as plt\n",
    "import warnings\n",
    "from functools import partial # for use with vmap\n"
   ]
  },
  {
   "cell_type": "code",
   "execution_count": 2,
   "metadata": {},
   "outputs": [],
   "source": [
    "def data_parse(record):\n",
    "    features = {\n",
    "        'N': tf.io.FixedLenFeature([], tf.int64),\n",
    "        'labels': tf.io.FixedLenFeature([16], tf.float32),\n",
    "        'elements': tf.io.VarLenFeature(tf.int64),\n",
    "        'coords': tf.io.VarLenFeature(tf.float32),\n",
    "    }\n",
    "    parsed_features = tf.io.parse_single_example(\n",
    "        serialized=record, features=features)\n",
    "    coords = tf.reshape(tf.sparse.to_dense(parsed_features['coords'], default_value=0),[-1,4])\n",
    "    elements = tf.sparse.to_dense(parsed_features['elements'], default_value=0)\n",
    "    return (elements, coords), parsed_features['labels']\n",
    "data = tf.data.TFRecordDataset(\n",
    "    'qm9.tfrecords', compression_type='GZIP').map(data_parse)"
   ]
  },
  {
   "cell_type": "code",
   "execution_count": 3,
   "metadata": {},
   "outputs": [],
   "source": [
    "#{'C':6,'H':1,'O':8,'N':7,'F':9}\n",
    "\n",
    "def make_graph(e,x):\n",
    "    e = e.numpy()\n",
    "    x = x.numpy()\n",
    "    r = x[:,:3]\n",
    "    r2 = np.sum((r - r[:,np.newaxis,:])**2,axis=-1)\n",
    "    edges = np.where(r2!=0, 1/r2,0.0) #[N,N]\n",
    "    nodes = np.zeros((len(e),9))\n",
    "    nodes[np.arange(len(e)), e-1] = 1\n",
    "    return nodes,edges\n",
    "\n",
    "def get_label(y):\n",
    "    return y.numpy()[13]"
   ]
  },
  {
   "cell_type": "code",
   "execution_count": 75,
   "metadata": {},
   "outputs": [
    {
     "name": "stdout",
     "output_type": "stream",
     "text": [
      "(5, 9) (5, 5) -40.475117\n",
      "(4, 9) (4, 4) -56.522083\n",
      "(3, 9) (3, 3) -76.400925\n",
      "(4, 9) (4, 4) -77.30458\n",
      "(3, 9) (3, 3) -93.408424\n",
      "(4, 9) (4, 4) -114.479805\n",
      "(8, 9) (8, 8) -79.75972\n",
      "(6, 9) (6, 6) -115.67487\n",
      "(7, 9) (7, 7) -116.60461\n",
      "(6, 9) (6, 6) -132.71362\n"
     ]
    },
    {
     "name": "stderr",
     "output_type": "stream",
     "text": [
      "/scratch/gwellawa/.conda/htf2/lib/python3.7/site-packages/ipykernel_launcher.py:8: RuntimeWarning: divide by zero encountered in true_divide\n",
      "  \n"
     ]
    }
   ],
   "source": [
    "i = 0\n",
    "data_nodes,data_edges,data_labels = [],[],[]\n",
    "for d in data:\n",
    "    (e,x),y = d\n",
    "    nodes,edges = make_graph(e,x)\n",
    "    label = get_label(y)\n",
    "    \n",
    "    data_nodes.append(nodes)\n",
    "    data_edges.append(edges)\n",
    "    data_labels.append(label)\n",
    "    print (nodes.shape,edges.shape,label)\n",
    "    i +=1\n",
    "    if i ==10:\n",
    "        break\n",
    "        \n",
    "data_nodes = np.asarray(data_nodes)\n",
    "data_edges = np.asarray(data_edges)\n",
    "data_labels = np.asarray(data_labels)"
   ]
  },
  {
   "cell_type": "code",
   "execution_count": 28,
   "metadata": {},
   "outputs": [
    {
     "name": "stdout",
     "output_type": "stream",
     "text": [
      "[ -40.475117  -56.522083  -76.400925  -77.30458   -93.408424 -114.479805\n",
      "  -79.75972  -115.67487  -116.60461  -132.71362 ]\n"
     ]
    }
   ],
   "source": [
    "print(data_labels)\n",
    "#print(data_nodes.shape)"
   ]
  },
  {
   "cell_type": "code",
   "execution_count": 5,
   "metadata": {},
   "outputs": [],
   "source": [
    "def gcn_layer(nodes,edges,train_weights):\n",
    "    \n",
    "    #wq has shape (9,10), output from query has shape (5,10)\n",
    "    query = jnp.dot(nodes,train_weights[0]) \n",
    "    \n",
    "\n",
    "    #pairwise distances are used here wk has shape of (9,10), output from keys has shape (5,5,10)\n",
    "    keys = jnp.dot(jnp.repeat(nodes[jnp.newaxis,...],nodes.shape[0],axis=0), train_weights[1]) * edges\n",
    "    d_sq = math.sqrt(keys.shape[-1])\n",
    "    b = jnn.softmax(query[jnp.newaxis,...] * keys/d_sq)\n",
    "    \n",
    "    #wv has shape (9,10), output from values has shape (5,5,10)\n",
    "    values = jnp.dot(jnp.repeat(nodes[jnp.newaxis,...],nodes.shape[0],axis=0), train_weights[2])\n",
    "    \n",
    "    messages = b * values #out shape (5,5,10)\n",
    "    \n",
    "    net_message = jnp.mean(messages,axis= 1)\n",
    "    self_message = nodes @ train_weights[3]\n",
    "    \n",
    "    #self loop\n",
    "    out_nodes = jnn.relu((net_message+self_message)) \n",
    "    \n",
    "    return out_nodes,edges\n",
    "    \n",
    "    \n",
    "def graph_level_fts(nodes):\n",
    "    node_avg = jnp.mean(nodes,axis=1)\n",
    "    return node_avg"
   ]
  },
  {
   "cell_type": "code",
   "execution_count": 120,
   "metadata": {},
   "outputs": [],
   "source": [
    "def linear(w,b, x):\n",
    "    \n",
    "    return w*x + b\n",
    "\n",
    "\n",
    "\n",
    "@jit\n",
    "def update(i,params, x, y, opt_state):\n",
    "    \"\"\" Compute the gradient for a batch and update the parameters \"\"\"\n",
    "    value, grads = value_and_grad(loss)(params, x, y)\n",
    "    opt_state = opt_update(i, grads, opt_state)\n",
    "    return get_params(opt_state), opt_state, value"
   ]
  },
  {
   "cell_type": "code",
   "execution_count": 121,
   "metadata": {},
   "outputs": [
    {
     "name": "stdout",
     "output_type": "stream",
     "text": [
      "[0.23964253 1.9595194  1.9574305  1.9660587  1.9568462 ] (5,)\n",
      "1604.9153 [0.18368527] -40.475117\n"
     ]
    }
   ],
   "source": [
    "out_dim = 10\n",
    "embed_dim = 4\n",
    "\n",
    "#get node embeddings instead of one-hot \n",
    "element_embeddings = np.random.normal(size=(9,embed_dim))\n",
    "embed_nodes = nodes @ element_embeddings\n",
    "\n",
    "#get edge embeddings from pairwise distances\n",
    "edge_embeddings = np.random.normal(size=(1,len(edges),out_dim))\n",
    "embed_edges = edges[...,np.newaxis] * edge_embeddings\n",
    "\n",
    "#trainable weights\n",
    "w1 = np.random.normal(size = (4,embed_dim,out_dim))\n",
    "w2 = np.random.normal(size = (4,embed_dim,out_dim))\n",
    "\n",
    "\n",
    "#call gcn\n",
    "\n",
    "n,e = gcn_layer(embed_nodes,embed_edges,w1)\n",
    "n,e = gcn_layer(embed_nodes,embed_edges,w2)\n",
    "n = graph_level_fts(n)\n",
    "print(n,n.shape)\n",
    "\n"
   ]
  },
  {
   "cell_type": "code",
   "execution_count": null,
   "metadata": {},
   "outputs": [],
   "source": [
    "net_init, net_apply = stax.serial(\n",
    "    gcn_layer\n",
    "    Dense(16), Relu,\n",
    "    Dense(1)\n",
    ")\n",
    "\n",
    "rng = random.PRNGKey(0)\n",
    "in_shape = (-1,n.shape[0])\n",
    "\n",
    "out_shape, net_params =net_init(rng,in_shape)\n",
    "#print(net_params)\n",
    "\n",
    "losses = loss(net_params,n,label)\n",
    "#losses = vmap(partial(loss, net_params))(n, label)\n",
    "#print(predictions)\n",
    "print(losses,pred,label)\n",
    "\n",
    "opt_init, opt_update,get_params = optimizers.adam(step_size=1e-2)\n",
    "opt_state = opt_init(net_params)\n",
    "\n",
    "params = get_params(opt_state)\n",
    "\n",
    "up_params, opt_state, loss = update(params, n, label, opt_state)\n"
   ]
  },
  {
   "cell_type": "code",
   "execution_count": 119,
   "metadata": {},
   "outputs": [
    {
     "name": "stdout",
     "output_type": "stream",
     "text": [
      "(5, 10)\n"
     ]
    }
   ],
   "source": [
    "r = np.repeat(nodes[np.newaxis,...],nodes.shape[0],axis=0) @ np.ones((9,10 )) \n",
    "r.shape\n",
    "\n",
    "a = jnp.ones((5,5))\n",
    "b = jnp.ones((5,10))\n",
    "c = a@b\n",
    "\n",
    "print(c.shape)\n",
    "#print(softmax(c).shape)"
   ]
  },
  {
   "cell_type": "code",
   "execution_count": null,
   "metadata": {},
   "outputs": [],
   "source": [
    "predictions = vmap(partial(net_apply, net_params))(xrange_inputs)\n",
    "losses = vmap(partial(loss, net_params))(xrange_inputs, targets) # per-input loss\n",
    "plt.plot(xrange_inputs, predictions, label='prediction')\n",
    "plt.plot(xrange_inputs, losses, label='loss')\n",
    "plt.plot(xrange_inputs, targets, label='target')\n",
    "plt.legend()"
   ]
  },
  {
   "cell_type": "code",
   "execution_count": 32,
   "metadata": {},
   "outputs": [
    {
     "name": "stdout",
     "output_type": "stream",
     "text": [
      "(5,)\n",
      "(5, 10)\n"
     ]
    }
   ],
   "source": [
    "out_dim = 10\n",
    "input_shape = (5,10)\n",
    "output_shape = input_shape[:-1] + (out_dim,)\n",
    "print(input_shape[:-1])\n",
    "print(output_shape )"
   ]
  },
  {
   "cell_type": "code",
   "execution_count": 4,
   "metadata": {},
   "outputs": [
    {
     "name": "stdout",
     "output_type": "stream",
     "text": [
      "(5, 9) (5, 5) -40.475117\n"
     ]
    },
    {
     "name": "stderr",
     "output_type": "stream",
     "text": [
      "/scratch/gwellawa/.conda/htf2/lib/python3.7/site-packages/ipykernel_launcher.py:8: RuntimeWarning: divide by zero encountered in true_divide\n",
      "  \n"
     ]
    }
   ],
   "source": [
    "\n",
    "for d in data:\n",
    "    (e,x),y = d\n",
    "    nodes,edges = make_graph(e,x)\n",
    "    label = get_label(y)\n",
    "    print (nodes.shape,edges.shape,label)\n",
    "    break\n"
   ]
  },
  {
   "cell_type": "code",
   "execution_count": 18,
   "metadata": {},
   "outputs": [
    {
     "name": "stdout",
     "output_type": "stream",
     "text": [
      "labels -40.475117\n",
      "nodes and weights (5, 4) (4, 10)\n",
      "[(DeviceArray([[ 0.6330807 , -0.7997349 , -0.13669135, -0.56125224,\n",
      "               2.4845984 , -1.1210955 , -0.87235814,  0.6378851 ,\n",
      "               0.4861787 , -0.8231491 ],\n",
      "             [ 1.1658616 ,  1.3507246 ,  0.5896082 ,  1.7584971 ,\n",
      "               1.6320179 , -0.95412964,  0.56793237,  1.6786307 ,\n",
      "              -0.73729736,  0.52374214],\n",
      "             [-1.0482982 , -0.09737515,  0.37556684, -0.12551656,\n",
      "               0.9345567 , -0.7030995 , -1.2077932 , -0.63192505,\n",
      "               0.3913972 ,  0.5083408 ],\n",
      "             [-0.26583144,  0.48731777, -0.05971615, -1.2409033 ,\n",
      "               0.5473174 ,  1.0736756 ,  1.1465852 ,  1.150327  ,\n",
      "              -0.56677055, -0.5030649 ]], dtype=float32), DeviceArray([[-2.0476542 ,  0.31673124,  0.4304214 , -1.2137731 ,\n",
      "               0.42970178,  0.9814824 ,  1.3906139 , -1.3313333 ,\n",
      "              -0.04797509, -1.2262526 ],\n",
      "             [ 0.6749709 ,  0.18916434,  1.0075967 , -0.1120305 ,\n",
      "              -0.02364717,  1.3062397 ,  0.36793104, -0.13335934,\n",
      "              -0.49358   , -0.20404266],\n",
      "             [-1.298899  , -0.8410294 , -0.35621068, -0.9010546 ,\n",
      "              -0.6081551 ,  1.6507977 , -1.5399591 ,  0.41909054,\n",
      "              -1.0372291 ,  1.1981064 ],\n",
      "             [-0.87166315,  0.71588194, -0.2530302 , -0.8868197 ,\n",
      "              -0.95642656,  0.76713187,  0.9647996 ,  0.00574774,\n",
      "               0.37652063,  1.701435  ]], dtype=float32), DeviceArray([[-0.4292887 ,  1.888605  , -0.47658393,  0.22805591,\n",
      "              -1.2050862 , -0.20982778,  0.28704438, -2.164063  ,\n",
      "               0.15368667, -1.9336601 ],\n",
      "             [-0.37056747,  2.0390446 , -0.891082  ,  0.01046376,\n",
      "               1.5086817 , -0.7633284 ,  1.1347185 ,  0.49185318,\n",
      "              -1.0122352 , -0.14134027],\n",
      "             [-1.6271099 , -0.56539404,  3.1740687 ,  1.2448032 ,\n",
      "              -2.1526957 , -0.06052431,  1.0492815 , -0.08471346,\n",
      "              -2.1500971 , -1.0243262 ],\n",
      "             [ 0.1022478 , -0.9367972 ,  0.29551667, -1.234756  ,\n",
      "               0.7239172 ,  0.01177516,  1.1667688 ,  0.05106347,\n",
      "               0.1581571 , -2.6179838 ]], dtype=float32), DeviceArray([[ 0.02809529, -0.1330901 ,  0.43675324,  0.04324441,\n",
      "              -2.9979496 , -1.3041159 , -0.6323122 , -1.4132015 ,\n",
      "              -1.1696553 ,  0.32390502],\n",
      "             [-0.43861786,  0.81023735, -1.8508132 ,  1.3215556 ,\n",
      "               2.1455166 ,  0.56238127,  0.16347334,  1.1222082 ,\n",
      "               1.3323481 ,  1.5314273 ],\n",
      "             [-1.1697259 , -0.4805848 , -0.20480573, -0.15396355,\n",
      "               0.06694391, -1.8913527 ,  0.96852666,  0.00773743,\n",
      "              -0.25095648, -0.05386773],\n",
      "             [-1.4965256 , -0.25440216,  1.3207436 ,  0.5456338 ,\n",
      "               0.1539673 , -1.3814116 ,  0.24915634,  0.29988348,\n",
      "               1.1610111 , -1.6137187 ]], dtype=float32)), (DeviceArray([[-0.38234758, -0.1277098 ,  0.06873114,  0.02695669,\n",
      "               0.17069362, -0.10532804, -0.03084831,  0.06157901,\n",
      "              -0.14148207,  0.06612058,  0.28603706,  0.48925215,\n",
      "               0.0528201 ,  0.05942275,  0.15434676, -0.10950157],\n",
      "             [ 0.29511765,  0.08726464, -0.12196114, -0.1978935 ,\n",
      "               0.08193648, -0.25131685, -0.03415948,  0.2646037 ,\n",
      "               0.34785458, -0.01716086, -0.1121872 , -0.53968024,\n",
      "               0.2696927 ,  0.2584981 ,  0.3401158 ,  0.08806113],\n",
      "             [-0.09458944, -0.20063399, -0.47950628,  0.00277142,\n",
      "               0.5587306 , -0.17336097, -0.0046162 ,  0.04166951,\n",
      "              -0.367276  ,  0.01754394,  0.28979075, -0.0755306 ,\n",
      "              -0.04178311,  0.01507798, -0.06204472,  0.20064026],\n",
      "             [ 0.16557886, -0.2075997 ,  0.0428725 , -0.01213289,\n",
      "               0.24586828, -0.00566538, -0.06809454,  0.2259327 ,\n",
      "              -0.2895626 ,  0.54613155,  0.24443425, -0.06789236,\n",
      "               0.5594733 , -0.05958305,  0.41003737, -0.3699773 ],\n",
      "             [-0.3192378 , -0.34774324, -0.1532383 , -0.32308844,\n",
      "               0.24826846, -0.0422952 , -0.05106347, -0.60515153,\n",
      "               0.11138591,  0.55754215,  0.03379214,  0.19410314,\n",
      "              -0.38105893,  0.5700101 ,  0.00685719,  0.44978192],\n",
      "             [-0.16286701, -0.03513318,  0.07231759, -0.10282324,\n",
      "               0.10974288, -0.37354147,  0.11986821, -0.3747563 ,\n",
      "              -0.14244597,  0.25119776, -0.17828602, -0.00313272,\n",
      "              -0.08046675,  0.5409662 , -0.35270417,  0.23472519],\n",
      "             [-0.03727255,  0.47420865, -0.23575576,  0.023662  ,\n",
      "               0.47739136,  0.23011792, -0.20909223,  0.6242443 ,\n",
      "               0.06415303,  0.37397543,  0.31303707,  0.36245003,\n",
      "               0.19951905, -0.01378496, -0.0606621 ,  0.12216197],\n",
      "             [-0.5750713 ,  0.05400975, -0.44212914,  0.5056832 ,\n",
      "               0.11650281,  0.01639224, -0.13329293,  0.33259887,\n",
      "               0.27051905,  0.09816284, -0.33983693, -0.15606838,\n",
      "              -0.05345917,  0.08772787, -0.09417548,  0.28469893],\n",
      "             [-0.43945783, -0.09081923, -0.10783066, -0.27962133,\n",
      "               0.09397382,  0.2523786 ,  0.19701822, -0.37361443,\n",
      "              -0.00693237,  0.25167772, -0.44735754,  0.0398174 ,\n",
      "              -0.10151605, -0.08996103,  0.48343447,  0.1303275 ],\n",
      "             [-0.36679795,  0.02359501, -0.07091271,  0.03253735,\n",
      "               0.1918294 , -0.24732134, -0.06897639,  0.21869688,\n",
      "               0.18053201, -0.45700905, -0.1255948 ,  0.2528398 ,\n",
      "               0.0333076 ,  0.3529453 , -0.06660169,  0.10805331]],            dtype=float32), DeviceArray([ 0.02950264, -0.03807085, -0.04876665,  0.00311641,\n",
      "              0.11449998, -0.00468132, -0.0019487 ,  0.10000007,\n",
      "             -0.09886913,  0.09672428, -0.08567087, -0.08484778,\n",
      "              0.09359404,  0.1068159 , -0.10936823,  0.02650872],            dtype=float32)), (), (DeviceArray([[ 0.42489445],\n",
      "             [ 0.45254293],\n",
      "             [ 0.22933064],\n",
      "             [-0.40187705],\n",
      "             [-0.491442  ],\n",
      "             [-0.77270526],\n",
      "             [-0.40418398],\n",
      "             [-0.50575733],\n",
      "             [-0.00460483],\n",
      "             [-0.3509596 ],\n",
      "             [ 0.18767394],\n",
      "             [ 0.3508456 ],\n",
      "             [-0.42073223],\n",
      "             [-0.42035833],\n",
      "             [ 0.23472147],\n",
      "             [-0.08435874]], dtype=float32), DeviceArray([-0.10013421], dtype=float32))]\n"
     ]
    }
   ],
   "source": [
    "out_dim = 10\n",
    "embed_dim = 4\n",
    "num_steps = 10\n",
    "#get node embeddings instead of one-hot \n",
    "element_embeddings = np.random.normal(size=(9,embed_dim))\n",
    "embed_nodes = nodes @ element_embeddings\n",
    "#print(embed_nodes.shape)\n",
    "\n",
    "#get edge embeddings from pairwise distances\n",
    "edge_embeddings = np.random.normal(size=(1,len(edges),out_dim))\n",
    "embed_edges = edges[...,np.newaxis] * edge_embeddings\n",
    "\n",
    "def loss(params, inputs, targets):\n",
    "    # Computes average loss for the batch\n",
    "    predictions = net_apply(params, inputs)\n",
    "    #todo: add reg\n",
    "    return np.mean((targets - predictions)**2)\n",
    "\n",
    "@jit\n",
    "def update(i, opt_state,inputs,targets):\n",
    "    params = get_params(opt_state)\n",
    "    return opt_update(i, grad(loss)(params,inputs,targets), opt_state)\n",
    "\n",
    "def GCN(out_dim,embed_dim):\n",
    "    def init_fun(rng,input_shape):\n",
    "        output_shape = input_shape[:-1] + (out_dim,)\n",
    "        #trainable weights\n",
    "        w = np.random.normal(size = (4,embed_dim,out_dim))\n",
    "        w1 = w[0]\n",
    "        w2 = w[1]\n",
    "        w3 = w[2]\n",
    "        w4 = w[3]\n",
    "        #w2 = np.random.normal(size = (4,embed_dim,out_dim))\n",
    "        return output_shape, (w1,w2,w3,w4)\n",
    "    \n",
    "    def apply_fun(train_weights,inputs, **kwargs):\n",
    "        #wq has shape (9,10), output from query has shape (5,10)\n",
    "        nodes,edges = inputs\n",
    "\n",
    "        print('nodes and weights',nodes.shape,train_weights[0].shape)\n",
    "        query = jnp.dot(nodes,train_weights[0]) \n",
    "\n",
    "        #pairwise distances are used here wk has shape of (9,10), output from keys has shape (5,5,10)\n",
    "        keys = jnp.dot(jnp.repeat(nodes[jnp.newaxis,...],nodes.shape[0],axis=0), train_weights[1]) * edges\n",
    "        d_sq = math.sqrt(keys.shape[-1])\n",
    "        b = jnn.softmax(query[jnp.newaxis,...] * keys/d_sq)\n",
    "\n",
    "        #wv has shape (9,10), output from values has shape (5,5,10)\n",
    "        values = jnp.dot(jnp.repeat(nodes[jnp.newaxis,...],nodes.shape[0],axis=0), train_weights[2])\n",
    "\n",
    "        messages = b * values #out shape (5,5,10)\n",
    "\n",
    "        net_message = jnp.mean(messages,axis= 1)\n",
    "        self_message = nodes @ train_weights[3]\n",
    "\n",
    "        #self loop\n",
    "        #out_nodes = jnp.mean(jnn.relu((net_message+self_message)) )\n",
    "        out_nodes = jnn.relu((net_message+self_message)) \n",
    "        #node_avg = jnp.mean(nodes,axis=1)\n",
    "\n",
    "        return out_nodes\n",
    "    \n",
    "    return init_fun,apply_fun\n",
    "  \n",
    "\n",
    "#gcn_init,gcn_apply = GCN(out_dim,embed_dim)\n",
    "#out_dims, out_w = gcn_init(out_dim,embed_nodes.shape)\n",
    "#n,e = gcn_apply(out_w,inputs)\n",
    "#print(n.shape)\n",
    "\n",
    "net_init, net_apply = stax.serial(\n",
    "    GCN(out_dim,embed_dim),\n",
    "    Dense(16), Relu,\n",
    "    Dense(1)\n",
    ")\n",
    "\n",
    "rng = random.PRNGKey(0)\n",
    "#in_shape = (-1,n.shape[0])\n",
    "\n",
    "out_shape, net_params =net_init(rng,embed_nodes.shape)\n",
    "#print(embed_nodes.shape,out_shape)\n",
    "\n",
    "inputs = (embed_nodes,embed_edges)\n",
    "print('labels',label)\n",
    "#losses = loss(net_params,inputs,label)\n",
    "\n",
    "opt_init, opt_update,get_params = optimizers.adam(step_size=1e-2)\n",
    "opt_state = opt_init(net_params)\n",
    "\n",
    "for i in range(num_steps):\n",
    "    opt_state = update(i, opt_state,inputs,label)\n",
    "    \n",
    "trained_params = get_params(opt_state)\n",
    "print(trained_params)"
   ]
  },
  {
   "cell_type": "code",
   "execution_count": 96,
   "metadata": {},
   "outputs": [
    {
     "name": "stdout",
     "output_type": "stream",
     "text": [
      "5\n"
     ]
    }
   ],
   "source": [
    "print(len(np.asarray(net_params)))"
   ]
  },
  {
   "cell_type": "code",
   "execution_count": 60,
   "metadata": {},
   "outputs": [],
   "source": [
    "losses = loss(net_params,n,label)\n",
    "\n",
    "opt_init, opt_update,get_params = optimizers.adam(step_size=1e-2)\n",
    "opt_state = opt_init(net_params)\n",
    "\n",
    "params = get_params(opt_state)\n",
    "\n",
    "up_params, opt_state, loss = update(params, n, label, opt_state)\n"
   ]
  },
  {
   "cell_type": "code",
   "execution_count": null,
   "metadata": {},
   "outputs": [],
   "source": []
  }
 ],
 "metadata": {
  "kernelspec": {
   "display_name": "Python (htff2)",
   "language": "python",
   "name": "htf2"
  },
  "language_info": {
   "codemirror_mode": {
    "name": "ipython",
    "version": 3
   },
   "file_extension": ".py",
   "mimetype": "text/x-python",
   "name": "python",
   "nbconvert_exporter": "python",
   "pygments_lexer": "ipython3",
   "version": "3.7.7"
  }
 },
 "nbformat": 4,
 "nbformat_minor": 4
}
