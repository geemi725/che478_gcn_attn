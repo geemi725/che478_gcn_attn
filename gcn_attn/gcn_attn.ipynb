{
 "cells": [
  {
   "cell_type": "code",
   "execution_count": 82,
   "metadata": {},
   "outputs": [],
   "source": [
    "import tensorflow as tf\n",
    "import numpy as np\n",
    "import jax.numpy as jnp\n",
    "import jax.experimental.optimizers as optimizers\n",
    "import jax\n",
    "import jax.nn as jnn\n",
    "import math\n",
    "from scipy.special import softmax\n",
    "import warnings"
   ]
  },
  {
   "cell_type": "code",
   "execution_count": 14,
   "metadata": {},
   "outputs": [],
   "source": [
    "def data_parse(record):\n",
    "    features = {\n",
    "        'N': tf.io.FixedLenFeature([], tf.int64),\n",
    "        'labels': tf.io.FixedLenFeature([16], tf.float32),\n",
    "        'elements': tf.io.VarLenFeature(tf.int64),\n",
    "        'coords': tf.io.VarLenFeature(tf.float32),\n",
    "    }\n",
    "    parsed_features = tf.io.parse_single_example(\n",
    "        serialized=record, features=features)\n",
    "    coords = tf.reshape(tf.sparse.to_dense(parsed_features['coords'], default_value=0),[-1,4])\n",
    "    elements = tf.sparse.to_dense(parsed_features['elements'], default_value=0)\n",
    "    return (elements, coords), parsed_features['labels']\n",
    "data = tf.data.TFRecordDataset(\n",
    "    'qm9.tfrecords', compression_type='GZIP').map(data_parse)"
   ]
  },
  {
   "cell_type": "code",
   "execution_count": 16,
   "metadata": {},
   "outputs": [
    {
     "name": "stdout",
     "output_type": "stream",
     "text": [
      "[6 1 1 1 1] [[-1.2698136e-02  1.0858041e+00  8.0009960e-03 -5.3568900e-01]\n",
      " [ 2.1504159e-03 -6.0313176e-03  1.9761203e-03  1.3392100e-01]\n",
      " [ 1.0117308e+00  1.4637512e+00  2.7657481e-04  1.3392200e-01]\n",
      " [-5.4081506e-01  1.4475266e+00 -8.7664372e-01  1.3392299e-01]\n",
      " [-5.2381361e-01  1.4379326e+00  9.0639728e-01  1.3392299e-01]] [ 1.0000000e+00  1.5771181e+02  1.5770998e+02  1.5770699e+02\n",
      "  0.0000000e+00  1.3210000e+01 -3.8769999e-01  1.1710000e-01\n",
      "  5.0480002e-01  3.5364101e+01  4.4748999e-02 -4.0478931e+01\n",
      " -4.0476063e+01 -4.0475117e+01 -4.0498596e+01  6.4689999e+00]\n"
     ]
    }
   ],
   "source": []
  },
  {
   "cell_type": "code",
   "execution_count": 43,
   "metadata": {},
   "outputs": [],
   "source": [
    "{'C':6,'H':1,'O':8,'N':7,'F':9}\n",
    "\n",
    "def make_graph(e,x):\n",
    "    e = e.numpy()\n",
    "    x = x.numpy()\n",
    "    r = x[:,:3]\n",
    "    r2 = np.sum((r - r[:,np.newaxis,:])**2,axis=-1)\n",
    "    edges = np.where(r2!=0, 1/r2,0.0)\n",
    "    nodes = np.zeros((len(e),9))\n",
    "    nodes[np.arange(len(e)), e-1] = 1\n",
    "    return nodes,edges\n",
    "\n",
    "def get_label(y):\n",
    "    return y.numpy()[13]"
   ]
  },
  {
   "cell_type": "code",
   "execution_count": 45,
   "metadata": {},
   "outputs": [
    {
     "name": "stdout",
     "output_type": "stream",
     "text": [
      "(5, 9) (5, 5) -40.475117\n"
     ]
    },
    {
     "name": "stderr",
     "output_type": "stream",
     "text": [
      "/scratch/gwellawa/.conda/htf2/lib/python3.7/site-packages/ipykernel_launcher.py:8: RuntimeWarning: divide by zero encountered in true_divide\n",
      "  \n"
     ]
    }
   ],
   "source": [
    "for d in data:\n",
    "    (e,x),y = d\n",
    "    nodes,edges = make_graph(e,x)\n",
    "    label = get_label(y)\n",
    "    print (nodes.shape,edges.shape,label)\n",
    "    break"
   ]
  },
  {
   "cell_type": "code",
   "execution_count": 115,
   "metadata": {},
   "outputs": [],
   "source": [
    "def gcn_layer(nodes,edges,train_weights):\n",
    "    \n",
    "    query = jnp.dot(nodes,train_weights[0]) #wq has shape (9,10), output from query has shape (5,10)\n",
    "    \n",
    "    #convert r into embeddings\n",
    "    \n",
    "    #pairwise distances are used here wk has shape of (9,10), output from keys has shape (5,5,10)\n",
    "    keys = jnp.dot(jnp.repeat(nodes[jnp.newaxis,...],nodes.shape[0],axis=0), train_weights[1]) * edges\n",
    "    d_sq = math.sqrt(keys.shape[-1])\n",
    "    b = jnn.softmax(query[jnp.newaxis,...] * keys/d_sq)\n",
    "    \n",
    "    #wv has shape (9,10), output shape (5,5,10)\n",
    "    values = jnp.dot(jnp.repeat(nodes[jnp.newaxis,...],nodes.shape[0],axis=0), train_weights[2])\n",
    "    \n",
    "    messages = b * values #out shape (5,5,10)\n",
    "    \n",
    "    net_message = jnp.mean(messages,axis= 1)\n",
    "    self_message = nodes @ train_weights[3]\n",
    "    out = jnn.relu((net_message+self_message)) \n",
    "    return out,edges\n",
    "    #messages =jnp.dot(jnp.repeat(nodes[jnp.newaxis,...],nodes.shape[0],axis=0), train_weights[0])\n",
    "    \n",
    "def graph_level_fts(nodes):\n",
    "    node_avg = jnp.mean(nodes,axis=1)\n",
    "    return node_avg"
   ]
  },
  {
   "cell_type": "code",
   "execution_count": 102,
   "metadata": {},
   "outputs": [
    {
     "data": {
      "text/plain": [
       "(5, 5, 10)"
      ]
     },
     "execution_count": 102,
     "metadata": {},
     "output_type": "execute_result"
    }
   ],
   "source": [
    "r = np.repeat(nodes[np.newaxis,...],nodes.shape[0],axis=0) @ np.ones((9,10 )) \n",
    "r.shape"
   ]
  },
  {
   "cell_type": "code",
   "execution_count": 99,
   "metadata": {},
   "outputs": [],
   "source": [
    "a = jnp.ones((5,5))\n",
    "b = jnp.ones((5,10))\n",
    "c = a@b"
   ]
  },
  {
   "cell_type": "code",
   "execution_count": 100,
   "metadata": {},
   "outputs": [
    {
     "name": "stdout",
     "output_type": "stream",
     "text": [
      "(5, 10)\n"
     ]
    }
   ],
   "source": [
    "print(c.shape)\n",
    "#print(softmax(c).shape)"
   ]
  },
  {
   "cell_type": "code",
   "execution_count": 114,
   "metadata": {},
   "outputs": [
    {
     "name": "stdout",
     "output_type": "stream",
     "text": [
      "(5, 10) [[[-0.00000000e+00 -0.00000000e+00  0.00000000e+00  0.00000000e+00\n",
      "    0.00000000e+00  0.00000000e+00 -0.00000000e+00  0.00000000e+00\n",
      "    0.00000000e+00  0.00000000e+00]\n",
      "  [-1.22371526e+00  8.93893943e-01 -4.57451839e-01  4.39772426e-01\n",
      "    3.25835304e-02  3.07619013e-01  6.95134339e-02 -1.58712913e-01\n",
      "    1.29516147e+00  4.09459342e-01]\n",
      "  [ 2.79695709e-01  1.04352116e+00  4.08119803e-01 -9.51305289e-01\n",
      "   -1.10860121e-03  2.94458796e-02 -7.27332328e-01  1.31587317e+00\n",
      "    5.74063674e-01 -8.52763956e-02]\n",
      "  [ 9.33926729e-01  1.27769865e+00 -9.49628075e-01 -1.04375695e+00\n",
      "   -1.61830670e-01  6.14040358e-01 -9.49619987e-01 -8.31977120e-01\n",
      "   -1.09164526e-02 -1.28190247e+00]\n",
      "  [ 1.70567426e-01  3.31296255e-01  4.72902912e-01  6.85578945e-01\n",
      "   -1.07110293e+00 -8.07125034e-01 -1.45487169e-01  1.31759370e+00\n",
      "   -2.92419599e-01 -1.75344817e+00]]\n",
      "\n",
      " [[-8.07275589e-02 -7.39898960e-02  4.08378002e-03  4.40485782e-01\n",
      "    8.25081290e-01  7.01286254e-01 -6.15533140e-01  3.90065873e-01\n",
      "    2.21583371e-03  1.97002400e-01]\n",
      "  [-0.00000000e+00  0.00000000e+00 -0.00000000e+00  0.00000000e+00\n",
      "    0.00000000e+00  0.00000000e+00  0.00000000e+00 -0.00000000e+00\n",
      "    0.00000000e+00  0.00000000e+00]\n",
      "  [ 1.04889407e-01  3.91333552e-01  1.53050056e-01 -3.56751442e-01\n",
      "   -4.15739389e-04  1.10425750e-02 -2.72758766e-01  4.93468978e-01\n",
      "    2.15281094e-01 -3.19797203e-02]\n",
      "  [ 3.50219968e-01  4.79133498e-01 -3.56107930e-01 -3.91406000e-01\n",
      "   -6.06860586e-02  2.30263454e-01 -3.56104897e-01 -3.11989144e-01\n",
      "   -4.09363985e-03 -4.80709918e-01]\n",
      "  [ 6.39617922e-02  1.24234168e-01  1.77335840e-01  2.57088115e-01\n",
      "   -4.01657367e-01 -3.02667191e-01 -5.45568417e-02  4.94089970e-01\n",
      "   -1.09655648e-01 -6.57532860e-01]]\n",
      "\n",
      " [[-8.07277483e-02 -7.39900695e-02  4.08378959e-03  4.40486815e-01\n",
      "    8.25083225e-01  7.01287898e-01 -6.15534584e-01  3.90066788e-01\n",
      "    2.21583891e-03  1.97002862e-01]\n",
      "  [-4.58909683e-01  3.35222251e-01 -1.71550592e-01  1.64920575e-01\n",
      "    1.22192621e-02  1.15361267e-01  2.60684727e-02 -5.95194772e-02\n",
      "    4.85702970e-01  1.53552761e-01]\n",
      "  [ 0.00000000e+00  0.00000000e+00  0.00000000e+00 -0.00000000e+00\n",
      "   -0.00000000e+00  0.00000000e+00 -0.00000000e+00  0.00000000e+00\n",
      "    0.00000000e+00 -0.00000000e+00]\n",
      "  [ 3.50215986e-01  4.79128050e-01 -3.56103880e-01 -3.91401549e-01\n",
      "   -6.06853685e-02  2.30260836e-01 -3.56100847e-01 -3.11985596e-01\n",
      "   -4.09359330e-03 -4.80704452e-01]\n",
      "  [ 6.39623923e-02  1.24235333e-01  1.77337504e-01  2.57090527e-01\n",
      "   -4.01661135e-01 -3.02670031e-01 -5.45573535e-02  4.94094605e-01\n",
      "   -1.09656677e-01 -6.57539028e-01]]\n",
      "\n",
      " [[-8.07285343e-02 -7.39907899e-02  4.08382936e-03  4.40491104e-01\n",
      "    8.25091258e-01  7.01294727e-01 -6.15540577e-01  3.90070586e-01\n",
      "    2.21586048e-03  1.97004780e-01]\n",
      "  [-4.58895420e-01  3.35211833e-01 -1.71545260e-01  1.64915449e-01\n",
      "    1.22188824e-02  1.15357682e-01  2.60676624e-02 -5.95176273e-02\n",
      "    4.85687874e-01  1.53547988e-01]\n",
      "  [ 1.04884954e-01  3.91316939e-01  1.53043559e-01 -3.56736297e-01\n",
      "   -4.15721740e-04  1.10421062e-02 -2.72747187e-01  4.93448030e-01\n",
      "    2.15271955e-01 -3.19783628e-02]\n",
      "  [ 0.00000000e+00  0.00000000e+00 -0.00000000e+00 -0.00000000e+00\n",
      "   -0.00000000e+00  0.00000000e+00 -0.00000000e+00 -0.00000000e+00\n",
      "   -0.00000000e+00 -0.00000000e+00]\n",
      "  [ 6.39624287e-02  1.24235404e-01  1.77337605e-01  2.57090673e-01\n",
      "   -4.01661363e-01 -3.02670203e-01 -5.45573845e-02  4.94094886e-01\n",
      "   -1.09656739e-01 -6.57539402e-01]]\n",
      "\n",
      " [[-8.07283564e-02 -7.39906269e-02  4.08382036e-03  4.40490134e-01\n",
      "    8.25089441e-01  7.01293181e-01 -6.15539221e-01  3.90069726e-01\n",
      "    2.21585560e-03  1.97004346e-01]\n",
      "  [-4.58890637e-01  3.35208339e-01 -1.71543472e-01  1.64913730e-01\n",
      "    1.22187550e-02  1.15356479e-01  2.60673907e-02 -5.95170069e-02\n",
      "    4.85682811e-01  1.53546388e-01]\n",
      "  [ 1.04886037e-01  3.91320981e-01  1.53045140e-01 -3.56739982e-01\n",
      "   -4.15726034e-04  1.10422203e-02 -2.72750004e-01  4.93453127e-01\n",
      "    2.15274179e-01 -3.19786931e-02]\n",
      "  [ 3.50219802e-01  4.79133271e-01 -3.56107761e-01 -3.91405814e-01\n",
      "   -6.06860298e-02  2.30263345e-01 -3.56104728e-01 -3.11988996e-01\n",
      "   -4.09363791e-03 -4.80709690e-01]\n",
      "  [ 0.00000000e+00  0.00000000e+00  0.00000000e+00  0.00000000e+00\n",
      "   -0.00000000e+00 -0.00000000e+00 -0.00000000e+00  0.00000000e+00\n",
      "   -0.00000000e+00 -0.00000000e+00]]]\n"
     ]
    }
   ],
   "source": [
    "out_dim = 10\n",
    "embed_dim = 4\n",
    "\n",
    "#get node embeddings instead of one-hot \n",
    "element_embeddings = np.random.normal(size=(9,embed_dim))\n",
    "embed_nodes = nodes @ element_embeddings\n",
    "\n",
    "#get edge embeddings from pairwise distances\n",
    "edge_embeddings = np.random.normal(size=(1,len(edges),out_dim))\n",
    "embed_edges = edges[...,np.newaxis] * edge_embeddings\n",
    "\n",
    "#trainable weights\n",
    "w1 = np.random.normal(size = (4,embed_dim,out_dim))\n",
    "w2 = np.random.normal(size = (4,embed_dim,out_dim))\n",
    "\n",
    "\n",
    "#call gcn\n",
    "\n",
    "n,e = gcn_layer(embed_nodes,embed_edges,w1)\n",
    "n,e = gcn_layer(embed_nodes,embed_edges,w2)\n",
    "n = graph_level_fts(n)\n",
    "print(n.shape,e)"
   ]
  },
  {
   "cell_type": "code",
   "execution_count": 110,
   "metadata": {},
   "outputs": [
    {
     "name": "stdout",
     "output_type": "stream",
     "text": [
      "(5, 10)\n"
     ]
    }
   ],
   "source": [
    "print(out.shape)"
   ]
  },
  {
   "cell_type": "code",
   "execution_count": null,
   "metadata": {},
   "outputs": [],
   "source": []
  }
 ],
 "metadata": {
  "kernelspec": {
   "display_name": "Python (htff2)",
   "language": "python",
   "name": "htf2"
  },
  "language_info": {
   "codemirror_mode": {
    "name": "ipython",
    "version": 3
   },
   "file_extension": ".py",
   "mimetype": "text/x-python",
   "name": "python",
   "nbconvert_exporter": "python",
   "pygments_lexer": "ipython3",
   "version": "3.7.7"
  }
 },
 "nbformat": 4,
 "nbformat_minor": 4
}
